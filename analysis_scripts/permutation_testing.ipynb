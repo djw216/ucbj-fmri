{
 "cells": [
  {
   "cell_type": "code",
   "execution_count": null,
   "id": "6d53caca",
   "metadata": {},
   "outputs": [],
   "source": [
    "import nibabel as nib\n",
    "import pandas as pd\n",
    "from neuromaps import stats, nulls, datasets, parcellate"
   ]
  },
  {
   "cell_type": "code",
   "execution_count": null,
   "id": "0b05b221",
   "metadata": {},
   "outputs": [],
   "source": [
    "## Load the cortical atlas\n",
    "path='hammers/cortical_hammers60_2mm.nii.gz'\n",
    "Nifti_img2 = nib.load(path)"
   ]
  },
  {
   "cell_type": "code",
   "execution_count": null,
   "id": "7bc507af",
   "metadata": {},
   "outputs": [],
   "source": [
    "## import cortical values for patients for weighted degree and UCB-J\n",
    "df = pd.read_csv(r'data_source/cortical_scores.csv')\n",
    "\n",
    "z1=pd.DataFrame(df,columns=['degree_zscore'])\n",
    "z2=pd.DataFrame(df,columns=['ucbj_zscore'])\n",
    "corr_test=stats.compare_images(z1,z2)\n",
    "print(corr_test)\n",
    "\n",
    "##generate nulls using the Burt 2020 method \n",
    "rotated = nulls.burt2020(z1, atlas='mni152', density='2mm',n_perm=5000, seed=1234, parcellation=Nifti_img2)\n",
    "corr, pval = stats.compare_images(z1, z2, nulls=rotated)\n",
    "print(f'r = {corr:.3f}, p = {pval:.3f}')"
   ]
  },
  {
   "cell_type": "code",
   "execution_count": null,
   "id": "3e9a63cb",
   "metadata": {},
   "outputs": [],
   "source": [
    "## import csv of residual valuess for zscored connectiivty with UCBJ regressed out for non-frontal cortical regions\n",
    "df = pd.read_csv(r'data_source/non_frontal_scores.csv')\n",
    "#print(df)\n",
    "z1=pd.DataFrame(df,columns=['degree_zscore'])\n",
    "z2=pd.DataFrame(df,columns=['ucbj_zscore'])\n",
    "corr_test=stats.compare_images(z1,z2)\n",
    "print(corr_test)\n",
    "path='hammers/non_frontal_hammers_2mm.nii.gz'\n",
    "Nifti_img4 = nib.load(path)\n",
    "\n",
    "##generate nulls using the Burt 2020 method \n",
    "rotated = nulls.burt2020(z1, atlas='mni152', density='2mm',n_perm=5000, seed=1234, parcellation=Nifti_img4)\n",
    "corr, pval = stats.compare_images(z1, z2, nulls=rotated)\n",
    "print(f'r = {corr:.3f}, p = {pval:.3f}')"
   ]
  },
  {
   "cell_type": "code",
   "execution_count": null,
   "id": "860685a6",
   "metadata": {},
   "outputs": [],
   "source": [
    "##repeat for subcortical regions\n",
    "path='hammers/subcortical_hammers_2mm.nii.gz'\n",
    "Nifti_img3 = nib.load(path)\n",
    "df = pd.read_csv(r'data_source/subcortical_scores.csv')\n",
    "#print(df)\n",
    "z1=pd.DataFrame(df,columns=['degree_zscore'])\n",
    "z2=pd.DataFrame(df,columns=['ucbj_zscore'])\n",
    "corr_test=stats.compare_images(z1,z2)\n",
    "print(corr_test)\n",
    "rotated = nulls.burt2020(z1, atlas='mni152', density='2mm',n_perm=5000, seed=1234, parcellation=Nifti_img3)\n",
    "corr, pval = stats.compare_images(z1, z2, nulls=rotated)\n",
    "print(f'r = {corr:.3f}, p = {pval:.3f}')"
   ]
  }
 ],
 "metadata": {
  "kernelspec": {
   "display_name": "Python 3 (ipykernel)",
   "language": "python",
   "name": "python3"
  },
  "language_info": {
   "codemirror_mode": {
    "name": "ipython",
    "version": 3
   },
   "file_extension": ".py",
   "mimetype": "text/x-python",
   "name": "python",
   "nbconvert_exporter": "python",
   "pygments_lexer": "ipython3",
   "version": "3.7.15"
  }
 },
 "nbformat": 4,
 "nbformat_minor": 5
}
